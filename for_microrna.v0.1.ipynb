{
 "cells": [
  {
   "cell_type": "code",
   "execution_count": 2,
   "metadata": {
    "collapsed": true
   },
   "outputs": [],
   "source": [
    "%matplotlib inline\n",
    "import pymysql as mdb\n",
    "import numpy as np\n",
    "import pandas as pd\n",
    "import matplotlib.pyplot as plt"
   ]
  },
  {
   "cell_type": "code",
   "execution_count": 3,
   "metadata": {
    "collapsed": false
   },
   "outputs": [],
   "source": [
    "# connect to mysql db\n",
    "con = mdb.connect('localhost', 'root', '', 'RNAseq1') #host, user, password, #database"
   ]
  },
  {
   "cell_type": "code",
   "execution_count": 4,
   "metadata": {
    "collapsed": false
   },
   "outputs": [],
   "source": [
    "# connect to IDKey\n",
    "with con:\n",
    "    cur = con.cursor()\n",
    "    cur.execute(\"SELECT * FROM IDKey;\") # AMP-AD_ROSMAP_Rush-Broad_IDKey.csv\n",
    "    rows = cur.fetchall()\n",
    "\n",
    "# load IDKey\n",
    "colnames = tuple([desc[0] for desc in cur.description])\n",
    "idkey = pd.DataFrame(list(rows),columns=colnames)\n",
    "idkey = idkey.set_index(idkey.projid)\n",
    "idkey = idkey.drop(['projid', 'ind'], axis=1)\n",
    "\n",
    "# get samples with microrna data\n",
    "mirnaids = idkey.loc[idkey['mirna_data']==1,'mirna_id']\n",
    "#type(mirnaids)\n",
    "#pd.Series.to_csv(mirnaids,\"tmp.csv\")"
   ]
  },
  {
   "cell_type": "code",
   "execution_count": 5,
   "metadata": {
    "collapsed": false
   },
   "outputs": [],
   "source": [
    "#idkey.loc[idkey.index == 21274866]\n",
    "#mirna.loc[:,'DLPFC_610_M4_7A']"
   ]
  },
  {
   "cell_type": "markdown",
   "metadata": {
    "collapsed": true
   },
   "source": [
    "there are 3 ids for projid 82317494\n",
    "there are 10 ids for projid 21274866"
   ]
  },
  {
   "cell_type": "code",
   "execution_count": 6,
   "metadata": {
    "collapsed": false
   },
   "outputs": [
    {
     "data": {
      "text/plain": [
       "(309, 703)"
      ]
     },
     "execution_count": 6,
     "metadata": {},
     "output_type": "execute_result"
    }
   ],
   "source": [
    "mirna = pd.DataFrame.from_csv(\"mirna.csv\") # dlpfc_mirna_nanostring_final.gct in csv format\n",
    "mirna.shape"
   ]
  },
  {
   "cell_type": "raw",
   "metadata": {},
   "source": [
    "There are some IDs that cannot be matched properly due to the formating of the IDKey table..\n",
    "\n",
    "projid_on_clin_table / mirna_id_on_clin_table / mirna_id_on_data\n",
    "67429065 / DLPFC_610_M4 / DLPFC_610_M4_7A \\n\n",
    "21274866 / 10_different / DLPFC_587_F1_7A."
   ]
  },
  {
   "cell_type": "code",
   "execution_count": 7,
   "metadata": {
    "collapsed": false
   },
   "outputs": [
    {
     "data": {
      "text/plain": [
       "(309, 703)"
      ]
     },
     "execution_count": 7,
     "metadata": {},
     "output_type": "execute_result"
    }
   ],
   "source": [
    "# map mirna ids to projids\n",
    "tmp = dict(zip(idkey.mirna_id, idkey.index))\n",
    "mirna= pd.DataFrame.rename(mirna,columns=tmp)\n",
    "\n",
    "mirna.shape"
   ]
  },
  {
   "cell_type": "code",
   "execution_count": 8,
   "metadata": {
    "collapsed": false,
    "scrolled": true
   },
   "outputs": [],
   "source": [
    "# connect to Clinical data\n",
    "with con:\n",
    "    cur = con.cursor()\n",
    "    cur.execute(\"SELECT * FROM Clinical;\") # AMP-AD_ROSMAP_Rush-Broad_Clinical.csv\n",
    "    rows = cur.fetchall()\n",
    "\n",
    "# load Clinical data\n",
    "colnames = tuple([desc[0] for desc in cur.description])\n",
    "clin = pd.DataFrame(list(rows),columns=colnames)\n",
    "clin = clin.set_index(clin.projid)\n",
    "clin = clin.drop(['projid','ind'], axis=1)\n",
    "#clin.head()"
   ]
  },
  {
   "cell_type": "code",
   "execution_count": 9,
   "metadata": {
    "collapsed": false
   },
   "outputs": [],
   "source": [
    "# print clinical variations in sorted order\n",
    "mirnaclin = clin[clin.index.isin(list(mirna.T.index))]\n",
    "\n",
    "# remove samples with cogdx values 0,3,5,6\n",
    "mirnaclin = mirnaclin.loc[mirnaclin['cogdx'].isin([1,2,4])]\n",
    "mirnaclin = pd.DataFrame.sort_index(mirnaclin)\n",
    "pd.DataFrame.to_csv(mirnaclin[['pmi','apoe_genotype','cogdx']],\"mirna_clin.csv\")"
   ]
  },
  {
   "cell_type": "code",
   "execution_count": 10,
   "metadata": {
    "collapsed": false
   },
   "outputs": [],
   "source": [
    "# get samples with proper cogdx\n",
    "mirna = mirna.T[mirna.T.index.isin(list(mirnaclin.index))]\n",
    "mirna = pd.DataFrame.sort_index(mirna).T\n",
    "pd.DataFrame.to_csv(mirna,\"mirna_sorted.csv\")\n",
    "#mirna.head()"
   ]
  },
  {
   "cell_type": "markdown",
   "metadata": {
    "collapsed": false
   },
   "source": [
    "# 1. Let's plot some plots"
   ]
  },
  {
   "cell_type": "code",
   "execution_count": 11,
   "metadata": {
    "collapsed": false
   },
   "outputs": [],
   "source": [
    "import matplotlib.pyplot as plt\n",
    "\n",
    "from sklearn.decomposition import PCA\n",
    "from sklearn.discriminant_analysis import LinearDiscriminantAnalysis as LDA\n",
    "\n",
    "X = pd.DataFrame.as_matrix(mirna.T)\n",
    "\n",
    "y = pd.Series.as_matrix(mirnaclin.cogdx)\n",
    "y = np.array([0 if x == 1 else x for x in y])\n",
    "y = np.array([1 if x == 2 else x for x in y])\n",
    "y = np.array([2 if x == 4 else x for x in y])\n",
    "\n",
    "target_names = np.array([\"control\",\"MCI\",\"AZ\"])"
   ]
  },
  {
   "cell_type": "code",
   "execution_count": 12,
   "metadata": {
    "collapsed": false
   },
   "outputs": [
    {
     "name": "stderr",
     "output_type": "stream",
     "text": [
      "/home/sun-gou/anaconda2/lib/python2.7/site-packages/sklearn/discriminant_analysis.py:453: UserWarning: The priors do not sum to 1. Renormalizing\n",
      "  UserWarning)\n"
     ]
    }
   ],
   "source": [
    "pca = PCA(n_components=2)\n",
    "X_r = pca.fit(X).transform(X)\n",
    "lda = LDA(n_components=2)\n",
    "X_r2 = lda.fit(X, y).transform(X)"
   ]
  },
  {
   "cell_type": "code",
   "execution_count": 13,
   "metadata": {
    "collapsed": false
   },
   "outputs": [
    {
     "name": "stdout",
     "output_type": "stream",
     "text": [
      "explained variance ratio (first two components): [ 0.14038544  0.08108   ]\n"
     ]
    },
    {
     "data": {
      "image/png": "[encoded data removed]",
      "text/plain": [
       "<matplotlib.figure.Figure at 0x7f60a5a19bd0>"
      ]
     },
     "metadata": {},
     "output_type": "display_data"
    },
    {
     "data": {
      "image/png": "[encoded data removed]",
      "text/plain": [
       "<matplotlib.figure.Figure at 0x7f60cc142910>"
      ]
     },
     "metadata": {},
     "output_type": "display_data"
    }
   ],
   "source": [
    "# Percentage of variance explained for each components\n",
    "print('explained variance ratio (first two components): %s'\n",
    "      % str(pca.explained_variance_ratio_))\n",
    "\n",
    "fig = plt.figure()\n",
    "for c, i, target_name in zip(\"rgb\", [0, 1, 2], target_names):\n",
    "    plt.scatter(X_r[y == i, 0], X_r[y == i, 1], c=c, label=target_name)\n",
    "plt.legend()\n",
    "plt.title('PCA of miRNA dataset')\n",
    "fig.savefig('miRNA_PCA.jpg', bbox_inches='tight')\n",
    "\n",
    "fig = plt.figure()\n",
    "for c, i, target_name in zip(\"rgb\", [0, 1, 2], target_names):\n",
    "    plt.scatter(X_r2[y == i, 0], X_r2[y == i, 1], c=c, label=target_name)\n",
    "plt.legend()\n",
    "plt.title('LDA of miRNA dataset')\n",
    "fig.savefig('miRNA_LDA.jpg', bbox_inches='tight')\n",
    "\n",
    "plt.show()"
   ]
  },
  {
   "cell_type": "markdown",
   "metadata": {},
   "source": [
    "# 2. Prediction without feature selection"
   ]
  },
  {
   "cell_type": "code",
   "execution_count": 25,
   "metadata": {
    "collapsed": false
   },
   "outputs": [],
   "source": [
    "from sklearn.cross_validation import StratifiedShuffleSplit\n",
    "from sklearn.cross_validation import train_test_split\n",
    "from sklearn import cross_validation\n",
    "from sklearn.grid_search import GridSearchCV\n",
    "from sklearn.metrics import roc_curve, auc\n",
    "\n",
    "# controls, MCI, and AZ labels\n",
    "labels = mirnaclin['cogdx'].values.tolist()\n",
    "bin_labels = [1 if x == 4 else 0 for x in labels]\n",
    "\n",
    "# training and test set\n",
    "(X_train, X_test, y_train, y_test) = train_test_split(mirna.T,bin_labels,test_size=0.2,stratify=labels,random_state=0)\n",
    "\n",
    "# set up 5X crossvalidation within training set\n",
    "slo = StratifiedShuffleSplit(y_train, n_iter=5, test_size=0.2, random_state=0)"
   ]
  },
  {
   "cell_type": "code",
   "execution_count": 26,
   "metadata": {
    "collapsed": false
   },
   "outputs": [],
   "source": [
    "from sklearn.linear_model import LogisticRegression\n",
    "from sklearn.linear_model import ElasticNet\n",
    "from sklearn.ensemble import RandomForestClassifier\n",
    "from sklearn.lda import LDA"
   ]
  },
  {
   "cell_type": "code",
   "execution_count": 27,
   "metadata": {
    "collapsed": false
   },
   "outputs": [
    {
     "name": "stdout",
     "output_type": "stream",
     "text": [
      "Random Forest accuracy = 0.653225806452\n"
     ]
    }
   ],
   "source": [
    "# Random Forest\n",
    "params = [{'n_estimators': [10,50,100,200,300,400,500,1000]}]\n",
    "rf = GridSearchCV(RandomForestClassifier(), params, cv =slo, scoring='roc_auc')\n",
    "rf.fit(X_train, y_train)\n",
    "rf = rf.best_estimator_\n",
    "print(\"Random Forest accuracy = {}\".format(rf.score(X_test,y_test)))"
   ]
  },
  {
   "cell_type": "code",
   "execution_count": 28,
   "metadata": {
    "collapsed": false
   },
   "outputs": [
    {
     "data": {
      "text/plain": [
       "500"
      ]
     },
     "execution_count": 28,
     "metadata": {},
     "output_type": "execute_result"
    }
   ],
   "source": [
    "rf.n_estimators"
   ]
  },
  {
   "cell_type": "code",
   "execution_count": 29,
   "metadata": {
    "collapsed": false
   },
   "outputs": [
    {
     "data": {
      "text/plain": [
       "0.70662162162162168"
      ]
     },
     "execution_count": 29,
     "metadata": {},
     "output_type": "execute_result"
    }
   ],
   "source": [
    "rf_score = rf.predict_proba(X_test)\n",
    "rf_fpr, rf_tpr, rf_thresholds = roc_curve(y_test,rf_score[:,1])\n",
    "rf_roc_auc = auc(rf_fpr, rf_tpr)\n",
    "rf_roc_auc"
   ]
  },
  {
   "cell_type": "code",
   "execution_count": 30,
   "metadata": {
    "collapsed": false
   },
   "outputs": [
    {
     "name": "stderr",
     "output_type": "stream",
     "text": [
      "/home/sun-gou/anaconda2/lib/python2.7/site-packages/sklearn/linear_model/coordinate_descent.py:454: UserWarning: Coordinate descent with alpha=0 may lead to unexpected results and is discouraged.\n",
      "  positive)\n",
      "/home/sun-gou/anaconda2/lib/python2.7/site-packages/sklearn/linear_model/coordinate_descent.py:466: ConvergenceWarning: Objective did not converge. You might want to increase the number of iterations\n",
      "  ConvergenceWarning)\n"
     ]
    },
    {
     "name": "stdout",
     "output_type": "stream",
     "text": [
      "Elastic Net accuracy = 0.234129243795\n"
     ]
    }
   ],
   "source": [
    "# Elastic Net\n",
    "params = [{'l1_ratio': [0,0.25,0.5,0.75,1], 'alpha': [0.01,0.1,1,10,100,1000]}]\n",
    "el = GridSearchCV(ElasticNet(), params, cv = slo, scoring='roc_auc')\n",
    "el.fit(X_train, y_train)\n",
    "el = el.best_estimator_\n",
    "print(\"Elastic Net accuracy = {}\".format(el.score(X_test,y_test)))"
   ]
  },
  {
   "cell_type": "code",
   "execution_count": 31,
   "metadata": {
    "collapsed": false
   },
   "outputs": [
    {
     "name": "stdout",
     "output_type": "stream",
     "text": [
      "0.5\n",
      "0.01\n"
     ]
    }
   ],
   "source": [
    "print(el.l1_ratio)\n",
    "print(el.alpha)"
   ]
  },
  {
   "cell_type": "code",
   "execution_count": 32,
   "metadata": {
    "collapsed": false
   },
   "outputs": [
    {
     "name": "stderr",
     "output_type": "stream",
     "text": [
      "/home/sun-gou/anaconda2/lib/python2.7/site-packages/sklearn/utils/__init__.py:93: DeprecationWarning: Function decision_function is deprecated;  and will be removed in 0.19\n",
      "  warnings.warn(msg, category=DeprecationWarning)\n"
     ]
    },
    {
     "data": {
      "text/plain": [
       "0.79729729729729726"
      ]
     },
     "execution_count": 32,
     "metadata": {},
     "output_type": "execute_result"
    }
   ],
   "source": [
    "el_score = el.decision_function(X_test)\n",
    "el_fpr, el_tpr, el_thresholds = roc_curve(y_test,el_score)\n",
    "el_roc_auc = auc(el_fpr, el_tpr)\n",
    "el_roc_auc"
   ]
  },
  {
   "cell_type": "code",
   "execution_count": 33,
   "metadata": {
    "collapsed": false
   },
   "outputs": [
    {
     "name": "stdout",
     "output_type": "stream",
     "text": [
      "LDA accuracy = 0.661290322581\n"
     ]
    }
   ],
   "source": [
    "# LDA\n",
    "params = [{'solver': ['svd','lsqr']}]\n",
    "lda = GridSearchCV(LDA(), params, cv=slo, scoring='roc_auc')\n",
    "lda.fit(X_train, y_train)\n",
    "lda = lda.best_estimator_\n",
    "print(\"LDA accuracy = {}\".format(lda.score(X_test,y_test)))"
   ]
  },
  {
   "cell_type": "code",
   "execution_count": 34,
   "metadata": {
    "collapsed": false
   },
   "outputs": [
    {
     "data": {
      "text/plain": [
       "'svd'"
      ]
     },
     "execution_count": 34,
     "metadata": {},
     "output_type": "execute_result"
    }
   ],
   "source": [
    "lda.solver"
   ]
  },
  {
   "cell_type": "code",
   "execution_count": 35,
   "metadata": {
    "collapsed": false
   },
   "outputs": [
    {
     "data": {
      "text/plain": [
       "0.67486486486486497"
      ]
     },
     "execution_count": 35,
     "metadata": {},
     "output_type": "execute_result"
    }
   ],
   "source": [
    "lda_score = lda.decision_function(X_test)\n",
    "lda_fpr, lda_tpr, lda_thresholds = roc_curve(y_test,lda_score)\n",
    "lda_roc_auc = auc(lda_fpr, lda_tpr)\n",
    "lda_roc_auc"
   ]
  },
  {
   "cell_type": "code",
   "execution_count": 36,
   "metadata": {
    "collapsed": false
   },
   "outputs": [
    {
     "name": "stderr",
     "output_type": "stream",
     "text": [
      "/home/sun-gou/anaconda2/lib/python2.7/site-packages/scipy/optimize/linesearch.py:414: LineSearchWarning: The line search algorithm did not converge\n",
      "  warn('The line search algorithm did not converge', LineSearchWarning)\n",
      "/home/sun-gou/anaconda2/lib/python2.7/site-packages/scipy/optimize/linesearch.py:285: LineSearchWarning: The line search algorithm did not converge\n",
      "  warn('The line search algorithm did not converge', LineSearchWarning)\n",
      "/home/sun-gou/anaconda2/lib/python2.7/site-packages/sklearn/linear_model/sag.py:267: ConvergenceWarning: The max_iter was reached which means the coef_ did not converge\n",
      "  \"the coef_ did not converge\", ConvergenceWarning)\n"
     ]
    },
    {
     "name": "stdout",
     "output_type": "stream",
     "text": [
      "Logistic Regression accuracy = 0.693548387097\n"
     ]
    }
   ],
   "source": [
    "# Logistic Regression\n",
    "params = [{'solver': ['newton-cg','lbfgs','liblinear','sag']}]\n",
    "lr = GridSearchCV(LogisticRegression(), params, cv=slo, scoring='roc_auc')\n",
    "lr.fit(X_train, y_train)\n",
    "lr = lr.best_estimator_\n",
    "print(\"Logistic Regression accuracy = {}\".format(lr.score(X_test,y_test)))"
   ]
  },
  {
   "cell_type": "code",
   "execution_count": 37,
   "metadata": {
    "collapsed": false
   },
   "outputs": [
    {
     "data": {
      "text/plain": [
       "'sag'"
      ]
     },
     "execution_count": 37,
     "metadata": {},
     "output_type": "execute_result"
    }
   ],
   "source": [
    "lr.solver"
   ]
  },
  {
   "cell_type": "code",
   "execution_count": 38,
   "metadata": {
    "collapsed": false
   },
   "outputs": [
    {
     "data": {
      "text/plain": [
       "0.77054054054054055"
      ]
     },
     "execution_count": 38,
     "metadata": {},
     "output_type": "execute_result"
    }
   ],
   "source": [
    "lr_score = lr.decision_function(X_test)\n",
    "lr_fpr, lr_tpr, lr_thresholds = roc_curve(y_test,lr_score)\n",
    "lr_roc_auc = auc(lr_fpr, lr_tpr)\n",
    "lr_roc_auc"
   ]
  },
  {
   "cell_type": "code",
   "execution_count": 39,
   "metadata": {
    "collapsed": false
   },
   "outputs": [
    {
     "data": {
      "image/png": "[encoded data removed]",
      "text/plain": [
       "<matplotlib.figure.Figure at 0x7f609b6c5dd0>"
      ]
     },
     "metadata": {},
     "output_type": "display_data"
    }
   ],
   "source": [
    "# Plot ROC curve\n",
    "fig = plt.figure(1, figsize=(9, 7))\n",
    "plt.plot(rf_fpr, rf_tpr, label='Random Forest (AUC = %0.2f)' % rf_roc_auc)\n",
    "plt.plot(el_fpr, el_tpr, label='Elastic Net (AUC = %0.2f)' % el_roc_auc)\n",
    "plt.plot(lda_fpr, lda_tpr, label='LDA (AUC = %0.2f)' % lda_roc_auc)\n",
    "plt.plot(lr_fpr, lr_tpr, label='Logistic Regression (AUC = %0.2f)' % lr_roc_auc)\n",
    "plt.plot([0, 1], [0, 1], 'k--')\n",
    "plt.xlim([0.0, 1.0])\n",
    "plt.ylim([0.0, 1.05])\n",
    "plt.xlabel('False Positive Rate')\n",
    "plt.ylabel('True Positive Rate')\n",
    "plt.title('ROC of microRNA data')\n",
    "plt.legend(loc=\"lower right\")\n",
    "\n",
    "fig.savefig('microRNA_all.ROC.jpg', bbox_inches='tight')\n",
    "plt.show()"
   ]
  },
  {
   "cell_type": "markdown",
   "metadata": {},
   "source": [
    "works surprisingly well even without feature selection"
   ]
  },
  {
   "cell_type": "markdown",
   "metadata": {},
   "source": [
    "# 3. Prediction after feature selection"
   ]
  },
  {
   "cell_type": "markdown",
   "metadata": {},
   "source": [
    "## 3.1 Run feature selection on limma"
   ]
  },
  {
   "cell_type": "code",
   "execution_count": 42,
   "metadata": {
    "collapsed": true
   },
   "outputs": [],
   "source": [
    "# output training data for limma input in R\n",
    "X_tmp = pd.DataFrame.sort_index(X_train)\n",
    "pd.DataFrame.to_csv(X_tmp.T,\"mirna_sorted2.csv\")\n",
    "mirnaclin2 = mirnaclin[mirnaclin.index.isin(list(X_train.index))]\n",
    "mirnaclin2 = pd.DataFrame.sort_index(mirnaclin2)\n",
    "pd.DataFrame.to_csv(mirnaclin2[['pmi','apoe_genotype','cogdx']],\"mirna_clin2.csv\")"
   ]
  },
  {
   "cell_type": "code",
   "execution_count": 43,
   "metadata": {
    "collapsed": false
   },
   "outputs": [
    {
     "data": {
      "text/plain": [
       "0"
      ]
     },
     "execution_count": 43,
     "metadata": {},
     "output_type": "execute_result"
    }
   ],
   "source": [
    "os.system(\"R CMD BATCH run_limma_miRNA.R\")"
   ]
  },
  {
   "cell_type": "code",
   "execution_count": 44,
   "metadata": {
    "collapsed": false
   },
   "outputs": [
    {
     "data": {
      "text/plain": [
       "(29, 620)"
      ]
     },
     "execution_count": 44,
     "metadata": {},
     "output_type": "execute_result"
    }
   ],
   "source": [
    "degs = open(\"mirna_deg2_fdr0.05.txt\", \"r\").read().split('\\n')\n",
    "del degs[-1] # remove last empty character caused by spliting\n",
    "mirna_degs = mirna[mirna.index.isin(list(degs))]\n",
    "pd.DataFrame.to_csv(mirna_degs,\"mirna_sorted_degs.csv\")\n",
    "mirna_degs.shape"
   ]
  },
  {
   "cell_type": "markdown",
   "metadata": {},
   "source": [
    "## 3.2 Run prediction"
   ]
  },
  {
   "cell_type": "code",
   "execution_count": 45,
   "metadata": {
    "collapsed": false
   },
   "outputs": [],
   "source": [
    "X_train = X_train.loc[:,degs]\n",
    "X_test = X_test.loc[:,degs]"
   ]
  },
  {
   "cell_type": "code",
   "execution_count": 46,
   "metadata": {
    "collapsed": false
   },
   "outputs": [
    {
     "name": "stdout",
     "output_type": "stream",
     "text": [
      "Random Forest accuracy = 0.725806451613\n"
     ]
    }
   ],
   "source": [
    "# Random Forest\n",
    "params = [{'n_estimators': [10,50,100,200,300,400,500,1000]}]\n",
    "rf = GridSearchCV(RandomForestClassifier(), params, cv =slo, scoring='roc_auc')\n",
    "rf.fit(X_train, y_train)\n",
    "rf = rf.best_estimator_\n",
    "print(\"Random Forest accuracy = {}\".format(rf.score(X_test,y_test)))"
   ]
  },
  {
   "cell_type": "code",
   "execution_count": 47,
   "metadata": {
    "collapsed": false
   },
   "outputs": [
    {
     "data": {
      "text/plain": [
       "400"
      ]
     },
     "execution_count": 47,
     "metadata": {},
     "output_type": "execute_result"
    }
   ],
   "source": [
    "rf.n_estimators"
   ]
  },
  {
   "cell_type": "code",
   "execution_count": 48,
   "metadata": {
    "collapsed": false
   },
   "outputs": [
    {
     "data": {
      "text/plain": [
       "0.73256756756756758"
      ]
     },
     "execution_count": 48,
     "metadata": {},
     "output_type": "execute_result"
    }
   ],
   "source": [
    "rf_score = rf.predict_proba(X_test)\n",
    "rf_fpr, rf_tpr, rf_thresholds = roc_curve(y_test,rf_score[:,1])\n",
    "rf_roc_auc = auc(rf_fpr, rf_tpr)\n",
    "rf_roc_auc"
   ]
  },
  {
   "cell_type": "code",
   "execution_count": 49,
   "metadata": {
    "collapsed": false
   },
   "outputs": [
    {
     "name": "stdout",
     "output_type": "stream",
     "text": [
      "Elastic Net accuracy = 0.244934889762\n"
     ]
    }
   ],
   "source": [
    "# Elastic Net\n",
    "params = [{'l1_ratio': [0,0.25,0.5,0.75,1], 'alpha': [0.01,0.1,1,10,100,1000]}]\n",
    "el = GridSearchCV(ElasticNet(), params, cv = slo, scoring='roc_auc')\n",
    "el.fit(X_train, y_train)\n",
    "el = el.best_estimator_\n",
    "print(\"Elastic Net accuracy = {}\".format(el.score(X_test,y_test)))"
   ]
  },
  {
   "cell_type": "code",
   "execution_count": 50,
   "metadata": {
    "collapsed": false
   },
   "outputs": [
    {
     "name": "stdout",
     "output_type": "stream",
     "text": [
      "0.25\n",
      "0.01\n"
     ]
    }
   ],
   "source": [
    "print(el.l1_ratio)\n",
    "print(el.alpha)"
   ]
  },
  {
   "cell_type": "code",
   "execution_count": 51,
   "metadata": {
    "collapsed": false
   },
   "outputs": [
    {
     "name": "stderr",
     "output_type": "stream",
     "text": [
      "/home/sun-gou/anaconda2/lib/python2.7/site-packages/sklearn/utils/__init__.py:93: DeprecationWarning: Function decision_function is deprecated;  and will be removed in 0.19\n",
      "  warnings.warn(msg, category=DeprecationWarning)\n"
     ]
    },
    {
     "data": {
      "text/plain": [
       "0.79729729729729726"
      ]
     },
     "execution_count": 51,
     "metadata": {},
     "output_type": "execute_result"
    }
   ],
   "source": [
    "el_score = el.decision_function(X_test)\n",
    "el_fpr, el_tpr, el_thresholds = roc_curve(y_test,el_score)\n",
    "el_roc_auc = auc(el_fpr, el_tpr)\n",
    "el_roc_auc"
   ]
  },
  {
   "cell_type": "code",
   "execution_count": 52,
   "metadata": {
    "collapsed": false
   },
   "outputs": [
    {
     "name": "stdout",
     "output_type": "stream",
     "text": [
      "LDA accuracy = 0.685483870968\n"
     ]
    }
   ],
   "source": [
    "# LDA\n",
    "params = [{'solver': ['svd','lsqr']}]\n",
    "lda = GridSearchCV(LDA(), params, cv=slo, scoring='roc_auc')\n",
    "lda.fit(X_train, y_train)\n",
    "lda = lda.best_estimator_\n",
    "print(\"LDA accuracy = {}\".format(lda.score(X_test,y_test)))"
   ]
  },
  {
   "cell_type": "code",
   "execution_count": 53,
   "metadata": {
    "collapsed": false
   },
   "outputs": [
    {
     "data": {
      "text/plain": [
       "'svd'"
      ]
     },
     "execution_count": 53,
     "metadata": {},
     "output_type": "execute_result"
    }
   ],
   "source": [
    "lda.solver"
   ]
  },
  {
   "cell_type": "code",
   "execution_count": 54,
   "metadata": {
    "collapsed": false
   },
   "outputs": [
    {
     "data": {
      "text/plain": [
       "0.7827027027027027"
      ]
     },
     "execution_count": 54,
     "metadata": {},
     "output_type": "execute_result"
    }
   ],
   "source": [
    "lda_score = lda.decision_function(X_test)\n",
    "lda_fpr, lda_tpr, lda_thresholds = roc_curve(y_test,lda_score)\n",
    "lda_roc_auc = auc(lda_fpr, lda_tpr)\n",
    "lda_roc_auc"
   ]
  },
  {
   "cell_type": "code",
   "execution_count": 55,
   "metadata": {
    "collapsed": false
   },
   "outputs": [
    {
     "name": "stdout",
     "output_type": "stream",
     "text": [
      "Logistic Regression accuracy = 0.717741935484\n"
     ]
    }
   ],
   "source": [
    "# Logistic Regression\n",
    "params = [{'solver': ['newton-cg','lbfgs','liblinear','sag']}]\n",
    "lr = GridSearchCV(LogisticRegression(), params, cv=slo, scoring='roc_auc')\n",
    "lr.fit(X_train, y_train)\n",
    "lr = lr.best_estimator_\n",
    "print(\"Logistic Regression accuracy = {}\".format(lr.score(X_test,y_test)))"
   ]
  },
  {
   "cell_type": "code",
   "execution_count": 56,
   "metadata": {
    "collapsed": false
   },
   "outputs": [
    {
     "data": {
      "text/plain": [
       "'liblinear'"
      ]
     },
     "execution_count": 56,
     "metadata": {},
     "output_type": "execute_result"
    }
   ],
   "source": [
    "lr.solver"
   ]
  },
  {
   "cell_type": "code",
   "execution_count": 57,
   "metadata": {
    "collapsed": false
   },
   "outputs": [
    {
     "data": {
      "text/plain": [
       "0.78162162162162163"
      ]
     },
     "execution_count": 57,
     "metadata": {},
     "output_type": "execute_result"
    }
   ],
   "source": [
    "lr_score = lr.decision_function(X_test)\n",
    "lr_fpr, lr_tpr, lr_thresholds = roc_curve(y_test,lr_score)\n",
    "lr_roc_auc = auc(lr_fpr, lr_tpr)\n",
    "lr_roc_auc"
   ]
  },
  {
   "cell_type": "code",
   "execution_count": 58,
   "metadata": {
    "collapsed": false
   },
   "outputs": [
    {
     "data": {
      "image/png": "[encoded data removed]",
      "text/plain": [
       "<matplotlib.figure.Figure at 0x7f609b9306d0>"
      ]
     },
     "metadata": {},
     "output_type": "display_data"
    }
   ],
   "source": [
    "# Plot ROC curve\n",
    "fig = plt.figure(1, figsize=(9, 7))\n",
    "plt.plot(rf_fpr, rf_tpr, label='Random Forest (AUC = %0.2f)' % rf_roc_auc)\n",
    "plt.plot(el_fpr, el_tpr, label='Elastic Net (AUC = %0.2f)' % el_roc_auc)\n",
    "plt.plot(lda_fpr, lda_tpr, label='LDA (AUC = %0.2f)' % lda_roc_auc)\n",
    "plt.plot(lr_fpr, lr_tpr, label='Logistic Regression (AUC = %0.2f)' % lr_roc_auc)\n",
    "plt.plot([0, 1], [0, 1], 'k--')\n",
    "plt.xlim([0.0, 1.0])\n",
    "plt.ylim([0.0, 1.05])\n",
    "plt.xlabel('False Positive Rate')\n",
    "plt.ylabel('True Positive Rate')\n",
    "plt.title('ROC of microRNA data')\n",
    "plt.legend(loc=\"lower right\")\n",
    "\n",
    "fig.savefig('microRNA_DEG.ROC.jpg', bbox_inches='tight')\n",
    "plt.show()"
   ]
  },
  {
   "cell_type": "code",
   "execution_count": null,
   "metadata": {
    "collapsed": true
   },
   "outputs": [],
   "source": []
  }
 ],
 "metadata": {
  "kernelspec": {
   "display_name": "Python 2",
   "language": "python",
   "name": "python2"
  },
  "language_info": {
   "codemirror_mode": {
    "name": "ipython",
    "version": 2
   },
   "file_extension": ".py",
   "mimetype": "text/x-python",
   "name": "python",
   "nbconvert_exporter": "python",
   "pygments_lexer": "ipython2",
   "version": "2.7.11"
  }
 },
 "nbformat": 4,
 "nbformat_minor": 0
}
